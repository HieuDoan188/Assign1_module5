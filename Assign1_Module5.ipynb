{
 "cells": [
  {
   "cell_type": "code",
   "execution_count": 82,
   "id": "falling-gabriel",
   "metadata": {},
   "outputs": [],
   "source": [
    "def read_file():\n",
    "    file_name = input(\"Enter a class to grade (i.e. class1 for class1.txt): \")\n",
    "    try:\n",
    "        f = open(\"Data Files/\" + file_name + \".txt\", \"r\")\n",
    "        print(\"Successfully opened \" +  file_name + \".txt\")\n",
    "        return f\n",
    "    except:\n",
    "        print(\"File cannot be found.\")\n",
    "        read_file()"
   ]
  },
  {
   "cell_type": "code",
   "execution_count": 96,
   "id": "structured-qatar",
   "metadata": {},
   "outputs": [
    {
     "name": "stdout",
     "output_type": "stream",
     "text": [
      "Enter a class to grade (i.e. class1 for class1.txt): class2\n",
      "Successfully opened class2.txt\n"
     ]
    }
   ],
   "source": [
    "f = read_file()"
   ]
  },
  {
   "cell_type": "code",
   "execution_count": 97,
   "id": "regulated-documentation",
   "metadata": {},
   "outputs": [],
   "source": [
    "contents = f.readlines() # load dữ liệu từ file được đọc theo danh sách\n",
    "f.close()"
   ]
  },
  {
   "cell_type": "code",
   "execution_count": 98,
   "id": "catholic-lesbian",
   "metadata": {},
   "outputs": [
    {
     "name": "stdout",
     "output_type": "stream",
     "text": [
      "**** ANALYZING ****\n",
      "Invalid line of data: does not contain exactly 26 values:\n",
      "N00000023,,A,D,D,C,B,D,A,C,C,,C,,B,A,C,B,D,A,C,A,A\n",
      "\n",
      "Invalid line of data: N# is invalid\n",
      "N0000002,B,A,D,D,C,B,D,A,C,D,D,D,A,,A,C,D,,A,C,A,A,B,D,D\n",
      "\n",
      "Invalid line of data: N# is invalid\n",
      "NA0000027,B,A,D,D,,B,,A,C,B,D,B,A,,A,C,B,D,A,,A,A,B,D,D\n",
      "\n",
      "Invalid line of data: does not contain exactly 26 values:\n",
      "N00000035,B,A,D,D,B,B,,A,C,,D,B,A,B,A,A,B,D,A,C,A,C,B,D,D,A,A\n",
      "\n",
      "**** REPORT ****\n",
      "Total valid lines of data:  21\n",
      "Total invalid lines of data::  4\n"
     ]
    }
   ],
   "source": [
    "import re\n",
    "\n",
    "count = 0\n",
    "print(\"**** ANALYZING ****\")\n",
    "error_line = []\n",
    "for content in contents:\n",
    "    temp_data = content.rstrip(\"\\n\").split(\",\")\n",
    "    if len(temp_data) != 26:\n",
    "        print(\"Invalid line of data: does not contain exactly 26 values:\")\n",
    "        print(content)\n",
    "        count += 1\n",
    "        error_line.append(content) \n",
    "        \n",
    "    else:\n",
    "        check_ID = re.match(\"^N[0-9]{8,8}\", temp_data[0])\n",
    "        if check_ID == None:\n",
    "            print(\"Invalid line of data: N# is invalid\")\n",
    "            print(content) \n",
    "            count +=1\n",
    "            error_line.append(content)\n",
    "            \n",
    "if count == 0:\n",
    "    print(\"No errors found!\")\n",
    "    \n",
    "print(\"**** REPORT ****\")\n",
    "print(\"Total valid lines of data: \", len(contents) - count)\n",
    "print(\"Total invalid lines of data:: \", count)"
   ]
  },
  {
   "cell_type": "code",
   "execution_count": 99,
   "id": "educational-camera",
   "metadata": {},
   "outputs": [],
   "source": [
    "answer_key = \"B,A,D,D,C,B,D,A,C,C,D,B,A,B,A,C,B,D,A,C,A,A,B,D,D\"\n",
    "answer_key = answer_key.split(\",\")"
   ]
  },
  {
   "cell_type": "code",
   "execution_count": 100,
   "id": "prescribed-assets",
   "metadata": {},
   "outputs": [
    {
     "data": {
      "text/plain": [
       "21"
      ]
     },
     "execution_count": 100,
     "metadata": {},
     "output_type": "execute_result"
    }
   ],
   "source": [
    "for i in error_line:\n",
    "    contents.remove(i)\n",
    "len(contents)"
   ]
  },
  {
   "cell_type": "code",
   "execution_count": 101,
   "id": "loaded-bobby",
   "metadata": {},
   "outputs": [],
   "source": [
    "match = []\n",
    "for content in contents:\n",
    "    student_match = 0\n",
    "    # tách điểm thành 1 lst để so sánh, loại bỏ ptu xuống dòng\n",
    "    content = content.rstrip(\"\\n\").split(\",\")\n",
    "    for i in range(25):\n",
    "        if content[i+1] == answer_key[i]:\n",
    "            student_match += 4\n",
    "        elif content[i+1] == \"\":\n",
    "            student_match += 0\n",
    "        else:\n",
    "            student_match -= 1\n",
    "    match.append(student_match)"
   ]
  },
  {
   "cell_type": "code",
   "execution_count": 102,
   "id": "respiratory-lease",
   "metadata": {},
   "outputs": [
    {
     "name": "stdout",
     "output_type": "stream",
     "text": [
      "Highest score:  100\n",
      "Lowest score:  66\n",
      "Range of scores:  34\n",
      "Median score:  78.0\n"
     ]
    }
   ],
   "source": [
    "print(\"Highest score: \", max(match))\n",
    "print(\"Lowest score: \", min(match))\n",
    "print(\"Range of scores: \", max(match) - min(match))\n",
    "print(\"Median score: \", sum(match)/len(match))"
   ]
  },
  {
   "cell_type": "code",
   "execution_count": null,
   "id": "fatal-strand",
   "metadata": {},
   "outputs": [],
   "source": [
    "save_file = open(\"result/\" + )"
   ]
  }
 ],
 "metadata": {
  "kernelspec": {
   "display_name": "Python 3",
   "language": "python",
   "name": "python3"
  },
  "language_info": {
   "codemirror_mode": {
    "name": "ipython",
    "version": 3
   },
   "file_extension": ".py",
   "mimetype": "text/x-python",
   "name": "python",
   "nbconvert_exporter": "python",
   "pygments_lexer": "ipython3",
   "version": "3.9.2"
  }
 },
 "nbformat": 4,
 "nbformat_minor": 5
}
