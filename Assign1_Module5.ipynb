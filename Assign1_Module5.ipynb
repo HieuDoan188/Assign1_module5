{
 "cells": [
  {
   "cell_type": "code",
   "execution_count": 82,
   "id": "falling-gabriel",
   "metadata": {},
   "outputs": [],
   "source": [
    "def read_file():\n",
    "    file_name = input(\"Enter a class to grade (i.e. class1 for class1.txt): \")\n",
    "    try:\n",
    "        f = open(\"Data Files/\" + file_name + \".txt\", \"r\")\n",
    "        print(\"Successfully opened \" +  file_name + \".txt\")\n",
    "        return f\n",
    "    except:\n",
    "        print(\"File cannot be found.\")\n",
    "        read_file()"
   ]
  },
  {
   "cell_type": "code",
   "execution_count": 96,
   "id": "varying-vehicle",
   "metadata": {},
   "outputs": [
    {
     "name": "stdout",
     "output_type": "stream",
     "text": [
      "Enter a class to grade (i.e. class1 for class1.txt): class2\n",
      "Successfully opened class2.txt\n"
     ]
    }
   ],
   "source": [
    "f = read_file()"
   ]
  },
  {
   "cell_type": "code",
   "execution_count": 97,
   "id": "resident-maldives",
   "metadata": {},
   "outputs": [],
   "source": [
    "contents = f.readlines() # load dữ liệu từ file được đọc theo danh sách\n",
    "f.close()"
   ]
  },
  {
   "cell_type": "code",
   "execution_count": 98,
   "id": "approved-twelve",
   "metadata": {},
   "outputs": [
    {
     "name": "stdout",
     "output_type": "stream",
     "text": [
      "**** ANALYZING ****\n",
      "Invalid line of data: does not contain exactly 26 values:\n",
      "N00000023,,A,D,D,C,B,D,A,C,C,,C,,B,A,C,B,D,A,C,A,A\n",
      "\n",
      "Invalid line of data: N# is invalid\n",
      "N0000002,B,A,D,D,C,B,D,A,C,D,D,D,A,,A,C,D,,A,C,A,A,B,D,D\n",
      "\n",
      "Invalid line of data: N# is invalid\n",
      "NA0000027,B,A,D,D,,B,,A,C,B,D,B,A,,A,C,B,D,A,,A,A,B,D,D\n",
      "\n",
      "Invalid line of data: does not contain exactly 26 values:\n",
      "N00000035,B,A,D,D,B,B,,A,C,,D,B,A,B,A,A,B,D,A,C,A,C,B,D,D,A,A\n",
      "\n",
      "**** REPORT ****\n",
      "Total valid lines of data:  21\n",
      "Total invalid lines of data::  4\n"
     ]
    }
   ],
   "source": [
    "import re\n",
    "\n",
    "count = 0\n",
    "print(\"**** ANALYZING ****\")\n",
    "error_line = []\n",
    "for content in contents:\n",
    "    temp_data = content.rstrip(\"\\n\").split(\",\")\n",
    "    if len(temp_data) != 26:\n",
    "        print(\"Invalid line of data: does not contain exactly 26 values:\")\n",
    "        print(content)\n",
    "        count += 1\n",
    "        error_line.append(content) \n",
    "        \n",
    "    else:\n",
    "        check_ID = re.match(\"^N[0-9]{8,8}\", temp_data[0])\n",
    "        if check_ID == None:\n",
    "            print(\"Invalid line of data: N# is invalid\")\n",
    "            print(content) \n",
    "            count +=1\n",
    "            error_line.append(content)\n",
    "            \n",
    "if count == 0:\n",
    "    print(\"No errors found!\")\n",
    "    \n",
    "print(\"**** REPORT ****\")\n",
    "print(\"Total valid lines of data: \", len(contents) - count)\n",
    "print(\"Total invalid lines of data:: \", count)"
   ]
  },
  {
   "cell_type": "code",
   "execution_count": 99,
   "id": "hybrid-valuable",
   "metadata": {},
   "outputs": [],
   "source": [
    "answer_key = \"B,A,D,D,C,B,D,A,C,C,D,B,A,B,A,C,B,D,A,C,A,A,B,D,D\"\n",
    "answer_key = answer_key.split(\",\")"
   ]
  },
  {
   "cell_type": "code",
   "execution_count": 100,
   "id": "smoking-marks",
   "metadata": {},
   "outputs": [
    {
     "data": {
      "text/plain": [
       "21"
      ]
     },
     "execution_count": 100,
     "metadata": {},
     "output_type": "execute_result"
    }
   ],
   "source": [
    "for i in error_line:\n",
    "    contents.remove(i)\n",
    "len(contents)"
   ]
  },
  {
   "cell_type": "code",
   "execution_count": 101,
   "id": "informal-result",
   "metadata": {},
   "outputs": [],
   "source": [
    "match = []\n",
    "for content in contents:\n",
    "    student_match = 0\n",
    "    # tách điểm thành 1 lst để so sánh, loại bỏ ptu xuống dòng\n",
    "    content = content.rstrip(\"\\n\").split(\",\")\n",
    "    for i in range(25):\n",
    "        if content[i+1] == answer_key[i]:\n",
    "            student_match += 4\n",
    "        elif content[i+1] == \"\":\n",
    "            student_match += 0\n",
    "        else:\n",
    "            student_match -= 1\n",
    "    match.append(student_match)"
   ]
  },
  {
   "cell_type": "code",
   "execution_count": 102,
   "id": "dense-experiment",
   "metadata": {},
   "outputs": [
    {
     "name": "stdout",
     "output_type": "stream",
     "text": [
      "Highest score:  100\n",
      "Lowest score:  66\n",
      "Range of scores:  34\n",
      "Median score:  78.0\n"
     ]
    }
   ],
   "source": [
    "print(\"Highest score: \", max(match))\n",
    "print(\"Lowest score: \", min(match))\n",
    "print(\"Range of scores: \", max(match) - min(match))\n",
    "print(\"Median score: \", sum(match)/len(match))"
   ]
  },
  {
   "cell_type": "code",
   "execution_count": null,
   "id": "fundamental-copyright",
   "metadata": {},
   "outputs": [],
   "source": [
    "save_file = open(\"result/\" + )"
   ]
  },
  {
   "cell_type": "code",
   "execution_count": 108,
   "id": "revolutionary-kruger",
   "metadata": {},
   "outputs": [],
   "source": [
    "import re\n",
    "\n",
    "def find_median(lst):\n",
    "    lst = sorted(lst)\n",
    "    if len(lst)%2 != 0:\n",
    "        median = lst[int((len(lst)-1)/2)]\n",
    "    else:\n",
    "        median = (lst[int(len(lst)/2-1)] + lst[int(len(lst)/2)])/2\n",
    "    return median\n",
    "\n",
    "def read_file(file_name):\n",
    "    try:\n",
    "        f = open(\"Data Files/\" + file_name + \".txt\", \"r\")\n",
    "        print(\"Successfully opened \" +  file_name + \".txt\")\n",
    "        return f\n",
    "    except:\n",
    "        print(\"File cannot be found.\")\n",
    "        read_file()\n",
    "        \n",
    "def task2(contents):\n",
    "    count = 0\n",
    "    error_line = []\n",
    "    print(\"**** ANALYZING ****\")\n",
    "    for content in contents:\n",
    "        temp_data = content.rstrip(\"\\n\").split(\",\")\n",
    "        if len(temp_data) != 26:\n",
    "            print(\"Invalid line of data: does not contain exactly 26 values:\")\n",
    "            print(content)\n",
    "            count += 1\n",
    "            error_line.append(content)\n",
    "\n",
    "        else:\n",
    "            check_ID = re.match(\"^N[0-9]{8,8}\", temp_data[0])\n",
    "            if check_ID == None:\n",
    "                print(\"Invalid line of data: N# is invalid\")\n",
    "                print(content)\n",
    "                count +=1\n",
    "                error_line.append(content)\n",
    "\n",
    "    if count == 0:\n",
    "        print(\"No errors found!\")\n",
    "\n",
    "        \n",
    "    print(\"**** REPORT ****\")\n",
    "    print(\"Total valid lines of data: \", len(contents) - count)\n",
    "    print(\"Total invalid lines of data:: \", count)\n",
    "\n",
    "    return error_line\n",
    "\n",
    "def task3(answer_key, contents, error_line):\n",
    "    answer_key = answer_key.split(\",\")\n",
    "    for i in error_line:\n",
    "        contents.remove(i)\n",
    "\n",
    "    match = []\n",
    "    for content in contents:\n",
    "        student_match = 0\n",
    "        # tách điểm thành 1 lst để so sánh, loại bỏ ptu xuống dòng\n",
    "        content = content.rstrip(\"\\n\").split(\",\")\n",
    "        for i in range(25):\n",
    "            if content[i+1] == answer_key[i]:\n",
    "                student_match += 4\n",
    "            elif content[i+1] == \"\":\n",
    "                student_match += 0\n",
    "            else:\n",
    "                student_match -= 1\n",
    "        match.append(student_match)\n",
    "    \n",
    "    # in kết quả theo yêu cầu\n",
    "    print(\"Mean (average) score: \", sum(match)/len(match))\n",
    "    print(\"Highest score: \", max(match))\n",
    "    print(\"Lowest score: \", min(match))\n",
    "    print(\"Range of scores: \", max(match) - min(match))\n",
    "    print(\"Median score: \", find_median(match))\n",
    "    \n",
    "    return [match, contents]\n"
   ]
  },
  {
   "cell_type": "code",
   "execution_count": 109,
   "id": "limited-elder",
   "metadata": {},
   "outputs": [
    {
     "name": "stdout",
     "output_type": "stream",
     "text": [
      "Enter a class to grade (i.e. class1 for class1.txt): class2\n",
      "Successfully opened class2.txt\n",
      "**** ANALYZING ****\n",
      "Invalid line of data: does not contain exactly 26 values:\n",
      "N00000023,,A,D,D,C,B,D,A,C,C,,C,,B,A,C,B,D,A,C,A,A\n",
      "\n",
      "Invalid line of data: N# is invalid\n",
      "N0000002,B,A,D,D,C,B,D,A,C,D,D,D,A,,A,C,D,,A,C,A,A,B,D,D\n",
      "\n",
      "Invalid line of data: N# is invalid\n",
      "NA0000027,B,A,D,D,,B,,A,C,B,D,B,A,,A,C,B,D,A,,A,A,B,D,D\n",
      "\n",
      "Invalid line of data: does not contain exactly 26 values:\n",
      "N00000035,B,A,D,D,B,B,,A,C,,D,B,A,B,A,A,B,D,A,C,A,C,B,D,D,A,A\n",
      "\n",
      "**** REPORT ****\n",
      "Total valid lines of data:  21\n",
      "Total invalid lines of data::  4\n",
      "Mean (average) score:  78.0\n",
      "Highest score:  100\n",
      "Lowest score:  66\n",
      "Range of scores:  34\n",
      "Median score:  76\n"
     ]
    }
   ],
   "source": [
    "# run task 1\n",
    "file_name = input(\"Enter a class to grade (i.e. class1 for class1.txt): \")\n",
    "f = read_file(file_name)\n",
    "\n",
    "# run task 2 từ file đọc được ở task 1\n",
    "contents = f.readlines() # load dữ liệu từ file được đọc theo danh sách\n",
    "error_line = task2(contents)\n",
    "\n",
    "# run task 3 từ đáp án đúng và nội dung và những dòng ko đúng định dạng từ task2\n",
    "answer_key = \"B,A,D,D,C,B,D,A,C,C,D,B,A,B,A,C,B,D,A,C,A,A,B,D,D\"\n",
    "task4 = task3(answer_key, contents, error_line)\n",
    "\n",
    "f.close()"
   ]
  },
  {
   "cell_type": "code",
   "execution_count": 119,
   "id": "small-translation",
   "metadata": {},
   "outputs": [],
   "source": [
    "score_lst = task4[0]\n",
    "ID_lst = [ID[:9] for ID in task4[1]]"
   ]
  },
  {
   "cell_type": "code",
   "execution_count": 122,
   "id": "beneficial-equation",
   "metadata": {},
   "outputs": [],
   "source": [
    "with open(\"filename.txt\", \"w\") as save:\n",
    "    for i in range(len(score_lst)):\n",
    "        save.write(ID_lst[i] + \",\" + str(score_lst[i]) + \"\\n\")"
   ]
  },
  {
   "cell_type": "code",
   "execution_count": 126,
   "id": "sublime-heather",
   "metadata": {},
   "outputs": [
    {
     "name": "stdout",
     "output_type": "stream",
     "text": [
      "Enter a class to grade (i.e. class1 for class1.txt): abc\n",
      "File cannot be found.\n"
     ]
    },
    {
     "ename": "TypeError",
     "evalue": "read_file() missing 1 required positional argument: 'file_name'",
     "output_type": "error",
     "traceback": [
      "\u001b[1;31m---------------------------------------------------------------------------\u001b[0m",
      "\u001b[1;31mFileNotFoundError\u001b[0m                         Traceback (most recent call last)",
      "\u001b[1;32m<ipython-input-126-608fd50fd75c>\u001b[0m in \u001b[0;36mread_file\u001b[1;34m(file_name)\u001b[0m\n\u001b[0;32m     24\u001b[0m     \u001b[1;32mtry\u001b[0m\u001b[1;33m:\u001b[0m\u001b[1;33m\u001b[0m\u001b[1;33m\u001b[0m\u001b[0m\n\u001b[1;32m---> 25\u001b[1;33m         \u001b[0mf\u001b[0m \u001b[1;33m=\u001b[0m \u001b[0mopen\u001b[0m\u001b[1;33m(\u001b[0m\u001b[1;34m\"Data Files/\"\u001b[0m \u001b[1;33m+\u001b[0m \u001b[0mfile_name\u001b[0m \u001b[1;33m+\u001b[0m \u001b[1;34m\".txt\"\u001b[0m\u001b[1;33m,\u001b[0m \u001b[1;34m\"r\"\u001b[0m\u001b[1;33m)\u001b[0m\u001b[1;33m\u001b[0m\u001b[1;33m\u001b[0m\u001b[0m\n\u001b[0m\u001b[0;32m     26\u001b[0m         \u001b[0mprint\u001b[0m\u001b[1;33m(\u001b[0m\u001b[1;34m\"Successfully opened \"\u001b[0m \u001b[1;33m+\u001b[0m  \u001b[0mfile_name\u001b[0m \u001b[1;33m+\u001b[0m \u001b[1;34m\".txt\"\u001b[0m\u001b[1;33m)\u001b[0m\u001b[1;33m\u001b[0m\u001b[1;33m\u001b[0m\u001b[0m\n",
      "\u001b[1;31mFileNotFoundError\u001b[0m: [Errno 2] No such file or directory: 'Data Files/abc.txt'",
      "\nDuring handling of the above exception, another exception occurred:\n",
      "\u001b[1;31mTypeError\u001b[0m                                 Traceback (most recent call last)",
      "\u001b[1;32m<ipython-input-126-608fd50fd75c>\u001b[0m in \u001b[0;36m<module>\u001b[1;34m\u001b[0m\n\u001b[0;32m    112\u001b[0m     \u001b[0mf\u001b[0m\u001b[1;33m.\u001b[0m\u001b[0mclose\u001b[0m\u001b[1;33m(\u001b[0m\u001b[1;33m)\u001b[0m\u001b[1;33m\u001b[0m\u001b[1;33m\u001b[0m\u001b[0m\n\u001b[0;32m    113\u001b[0m \u001b[1;33m\u001b[0m\u001b[0m\n\u001b[1;32m--> 114\u001b[1;33m \u001b[0mmain\u001b[0m\u001b[1;33m(\u001b[0m\u001b[1;33m)\u001b[0m\u001b[1;33m\u001b[0m\u001b[1;33m\u001b[0m\u001b[0m\n\u001b[0m\u001b[0;32m    115\u001b[0m \u001b[1;33m\u001b[0m\u001b[0m\n\u001b[0;32m    116\u001b[0m \u001b[1;33m\u001b[0m\u001b[0m\n",
      "\u001b[1;32m<ipython-input-126-608fd50fd75c>\u001b[0m in \u001b[0;36mmain\u001b[1;34m()\u001b[0m\n\u001b[0;32m     98\u001b[0m     \u001b[1;31m# run task 1\u001b[0m\u001b[1;33m\u001b[0m\u001b[1;33m\u001b[0m\u001b[1;33m\u001b[0m\u001b[0m\n\u001b[0;32m     99\u001b[0m     \u001b[0mfile_name\u001b[0m \u001b[1;33m=\u001b[0m \u001b[0minput\u001b[0m\u001b[1;33m(\u001b[0m\u001b[1;34m\"Enter a class to grade (i.e. class1 for class1.txt): \"\u001b[0m\u001b[1;33m)\u001b[0m\u001b[1;33m\u001b[0m\u001b[1;33m\u001b[0m\u001b[0m\n\u001b[1;32m--> 100\u001b[1;33m     \u001b[0mf\u001b[0m \u001b[1;33m=\u001b[0m \u001b[0mread_file\u001b[0m\u001b[1;33m(\u001b[0m\u001b[0mfile_name\u001b[0m\u001b[1;33m)\u001b[0m\u001b[1;33m\u001b[0m\u001b[1;33m\u001b[0m\u001b[0m\n\u001b[0m\u001b[0;32m    101\u001b[0m \u001b[1;33m\u001b[0m\u001b[0m\n\u001b[0;32m    102\u001b[0m     \u001b[1;31m# run task 2 từ file đọc được ở task 1\u001b[0m\u001b[1;33m\u001b[0m\u001b[1;33m\u001b[0m\u001b[1;33m\u001b[0m\u001b[0m\n",
      "\u001b[1;32m<ipython-input-126-608fd50fd75c>\u001b[0m in \u001b[0;36mread_file\u001b[1;34m(file_name)\u001b[0m\n\u001b[0;32m     28\u001b[0m     \u001b[1;32mexcept\u001b[0m\u001b[1;33m:\u001b[0m\u001b[1;33m\u001b[0m\u001b[1;33m\u001b[0m\u001b[0m\n\u001b[0;32m     29\u001b[0m         \u001b[0mprint\u001b[0m\u001b[1;33m(\u001b[0m\u001b[1;34m\"File cannot be found.\"\u001b[0m\u001b[1;33m)\u001b[0m\u001b[1;33m\u001b[0m\u001b[1;33m\u001b[0m\u001b[0m\n\u001b[1;32m---> 30\u001b[1;33m         \u001b[0mread_file\u001b[0m\u001b[1;33m(\u001b[0m\u001b[1;33m)\u001b[0m\u001b[1;33m\u001b[0m\u001b[1;33m\u001b[0m\u001b[0m\n\u001b[0m\u001b[0;32m     31\u001b[0m \u001b[1;33m\u001b[0m\u001b[0m\n\u001b[0;32m     32\u001b[0m \u001b[1;32mdef\u001b[0m \u001b[0mtask2\u001b[0m\u001b[1;33m(\u001b[0m\u001b[0mcontents\u001b[0m\u001b[1;33m)\u001b[0m\u001b[1;33m:\u001b[0m\u001b[1;33m\u001b[0m\u001b[1;33m\u001b[0m\u001b[0m\n",
      "\u001b[1;31mTypeError\u001b[0m: read_file() missing 1 required positional argument: 'file_name'"
     ]
    }
   ],
   "source": [
    "\"\"\"\n",
    "Task 1: TODO\n",
    "\n",
    " - Tạo một chương trình Python mới có tên “lastname_firstname_grade_the_exams.py.” \n",
    "(Đảm bảo tệp mã nguồn của bạn nằm trong cùng thư mục với tệp dữ liệu bạn vừa tải xuống.)\n",
    " - Viết một chương trình cho phép người dùng nhập tên của một tệp. Cố gắng mở \n",
    "tệp được cung cấp để truy cập đọc:\n",
    "        +  Nếu tệp tồn tại, bạn có thể in ra một thông báo xác nhận. \n",
    "        + Nếu tệp không tồn tại, bạn nên cho người dùng biết rằng không thể tìm thấy tệp và nhắc lại họ.\n",
    "    Sử dụng try/except để thực hiện việc này (đừng chỉ sử dụng một loạt câu lệnh “if” — chúng tôi muốn chương \n",
    "    trình này càng “chung chung” càng tốt). nếu ko sẽ ko có điểm\n",
    "\"\"\"\n",
    "import re\n",
    "\n",
    "def find_median(lst):\n",
    "    lst = sorted(lst)\n",
    "    if len(lst)%2 != 0:\n",
    "        median = lst[int((len(lst)-1)/2)]\n",
    "    else:\n",
    "        median = (lst[int(len(lst)/2-1)] + lst[int(len(lst)/2)])/2\n",
    "    return median\n",
    "\n",
    "def read_file(file_name):\n",
    "    try:\n",
    "        f = open(\"Data Files/\" + file_name + \".txt\", \"r\")\n",
    "        print(\"Successfully opened \" +  file_name + \".txt\")\n",
    "        return f\n",
    "    except:\n",
    "        print(\"File cannot be found.\")\n",
    "        read_file()\n",
    "        \n",
    "def task2(contents):\n",
    "    count = 0\n",
    "    error_line = []\n",
    "    print(\"**** ANALYZING ****\")\n",
    "    for content in contents:\n",
    "        temp_data = content.rstrip(\"\\n\").split(\",\")\n",
    "        if len(temp_data) != 26:\n",
    "            print(\"Invalid line of data: does not contain exactly 26 values:\")\n",
    "            print(content)\n",
    "            count += 1\n",
    "            error_line.append(content)\n",
    "\n",
    "        else:\n",
    "            check_ID = re.match(\"^N[0-9]{8,8}\", temp_data[0])\n",
    "            if check_ID == None:\n",
    "                print(\"Invalid line of data: N# is invalid\")\n",
    "                print(content)\n",
    "                count +=1\n",
    "                error_line.append(content)\n",
    "\n",
    "    if count == 0:\n",
    "        print(\"No errors found!\")\n",
    "\n",
    "        \n",
    "    print(\"**** REPORT ****\")\n",
    "    print(\"Total valid lines of data: \", len(contents) - count)\n",
    "    print(\"Total invalid lines of data:: \", count)\n",
    "\n",
    "    return error_line\n",
    "\n",
    "def task3(answer_key, contents, error_line):\n",
    "    answer_key = answer_key.split(\",\")\n",
    "    for i in error_line:\n",
    "        contents.remove(i)\n",
    "\n",
    "    match = []\n",
    "    for content in contents:\n",
    "        student_match = 0\n",
    "        # tách điểm thành 1 lst để so sánh, loại bỏ ptu xuống dòng\n",
    "        content = content.rstrip(\"\\n\").split(\",\")\n",
    "        for i in range(25):\n",
    "            if content[i+1] == answer_key[i]:\n",
    "                student_match += 4\n",
    "            elif content[i+1] == \"\":\n",
    "                student_match += 0\n",
    "            else:\n",
    "                student_match -= 1\n",
    "        match.append(student_match)\n",
    "    \n",
    "    # in kết quả theo yêu cầu\n",
    "    print(\"Mean (average) score: \", sum(match)/len(match))\n",
    "    print(\"Highest score: \", max(match))\n",
    "    print(\"Lowest score: \", min(match))\n",
    "    print(\"Range of scores: \", max(match) - min(match))\n",
    "    print(\"Median score: \", find_median(match))\n",
    "\n",
    "    return match\n",
    "\n",
    "def task4(file_name, match, contents):\n",
    "    score_lst = match\n",
    "    ID_lst = [ID[:9] for ID in contents]\n",
    "    with open(file_name + \"_grades.txt\", \"w\") as save:\n",
    "        for i in range(len(score_lst)):\n",
    "            save.write(ID_lst[i] + \",\" + str(score_lst[i]) + \"\\n\")\n",
    "\n",
    "def main():\n",
    "    # run task 1\n",
    "    file_name = input(\"Enter a class to grade (i.e. class1 for class1.txt): \")\n",
    "    f = read_file(file_name)\n",
    "\n",
    "    # run task 2 từ file đọc được ở task 1\n",
    "    contents = f.readlines() # load dữ liệu từ file được đọc theo danh sách\n",
    "    error_line = task2(contents)\n",
    "\n",
    "    # run task 3 từ đáp án đúng và nội dung và những dòng ko đúng định dạng từ task2\n",
    "    answer_key = \"B,A,D,D,C,B,D,A,C,C,D,B,A,B,A,C,B,D,A,C,A,A,B,D,D\"\n",
    "    match = task3(answer_key, contents, error_line)\n",
    "\n",
    "    # run task 4\n",
    "    task4(file_name, match, contents)\n",
    "    f.close()\n",
    "\n",
    "main()\n",
    "\n",
    "\n"
   ]
  },
  {
   "cell_type": "code",
   "execution_count": null,
   "id": "sweet-prize",
   "metadata": {},
   "outputs": [],
   "source": []
  }
 ],
 "metadata": {
  "kernelspec": {
   "display_name": "Python 3",
   "language": "python",
   "name": "python3"
  },
  "language_info": {
   "codemirror_mode": {
    "name": "ipython",
    "version": 3
   },
   "file_extension": ".py",
   "mimetype": "text/x-python",
   "name": "python",
   "nbconvert_exporter": "python",
   "pygments_lexer": "ipython3",
   "version": "3.9.2"
  }
 },
 "nbformat": 4,
 "nbformat_minor": 5
}
